{
  "nbformat": 4,
  "nbformat_minor": 0,
  "metadata": {
    "colab": {
      "provenance": [],
      "authorship_tag": "ABX9TyMko0h836OKxhzGUa5TfwHX",
      "include_colab_link": true
    },
    "kernelspec": {
      "name": "python3",
      "display_name": "Python 3"
    },
    "language_info": {
      "name": "python"
    }
  },
  "cells": [
    {
      "cell_type": "markdown",
      "metadata": {
        "id": "view-in-github",
        "colab_type": "text"
      },
      "source": [
        "<a href=\"https://colab.research.google.com/github/snehanshastri/ComputerNetworks/blob/main/Leaky_Bucket.ipynb\" target=\"_parent\"><img src=\"https://colab.research.google.com/assets/colab-badge.svg\" alt=\"Open In Colab\"/></a>"
      ]
    },
    {
      "cell_type": "code",
      "execution_count": 1,
      "metadata": {
        "colab": {
          "base_uri": "https://localhost:8080/"
        },
        "id": "oRSAzMv-EVAr",
        "outputId": "c7a29771-b7a8-48c6-fa8e-687dc032d9a4"
      },
      "outputs": [
        {
          "output_type": "stream",
          "name": "stdout",
          "text": [
            "Buffer size= 4 out of bucket size = 10\n",
            "Buffer size= 7 out of bucket size = 10\n",
            "Buffer size= 10 out of bucket size = 10\n",
            "Packet loss =  4\n",
            "Buffer size= 9 out of bucket size = 10\n"
          ]
        }
      ],
      "source": [
        "# initial packets in the bucket\n",
        "storage = 0\n",
        "\n",
        "# total no. of times bucket content is checked\n",
        "no_of_queries = 4\n",
        "\n",
        "# total no. of packets that can\n",
        "# be accommodated in the bucket\n",
        "bucket_size = 10\n",
        "\n",
        "# no. of packets that enters the bucket at a time\n",
        "input_pkt_size = 4\n",
        "\n",
        "# no. of packets that exits the bucket at a time\n",
        "output_pkt_size = 1\n",
        "for i in range(0, no_of_queries):  # space left\n",
        "\n",
        "    size_left = bucket_size - storage\n",
        "    if input_pkt_size <= size_left:\n",
        "      # update storage\n",
        "        storage += input_pkt_size\n",
        "    else:\n",
        "        print(\"Packet loss = \", input_pkt_size)\n",
        "\n",
        "    print(f\"Buffer size= {storage} out of bucket size = {bucket_size}\")\n",
        "\n",
        "    # as packets are sent out into the network, the size of the storage decreases\n",
        "    storage -= output_pkt_size\n",
        "\n",
        "\n"
      ]
    }
  ]
}